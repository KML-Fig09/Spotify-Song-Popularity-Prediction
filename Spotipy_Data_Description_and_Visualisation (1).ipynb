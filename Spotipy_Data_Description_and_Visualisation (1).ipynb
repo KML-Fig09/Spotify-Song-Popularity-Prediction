{
  "nbformat": 4,
  "nbformat_minor": 0,
  "metadata": {
    "colab": {
      "provenance": []
    },
    "kernelspec": {
      "name": "python3",
      "display_name": "Python 3"
    },
    "language_info": {
      "name": "python"
    }
  },
  "cells": [
    {
      "cell_type": "code",
      "source": [
        "!pip install spotipy"
      ],
      "metadata": {
        "colab": {
          "base_uri": "https://localhost:8080/"
        },
        "id": "OhoZvkilpUNa",
        "outputId": "b011f113-23f2-4fe1-ef65-e47a789a425a"
      },
      "execution_count": null,
      "outputs": [
        {
          "output_type": "stream",
          "name": "stdout",
          "text": [
            "Requirement already satisfied: spotipy in /usr/local/lib/python3.10/dist-packages (2.23.0)\n",
            "Requirement already satisfied: redis>=3.5.3 in /usr/local/lib/python3.10/dist-packages (from spotipy) (5.0.1)\n",
            "Requirement already satisfied: requests>=2.25.0 in /usr/local/lib/python3.10/dist-packages (from spotipy) (2.31.0)\n",
            "Requirement already satisfied: six>=1.15.0 in /usr/local/lib/python3.10/dist-packages (from spotipy) (1.16.0)\n",
            "Requirement already satisfied: urllib3>=1.26.0 in /usr/local/lib/python3.10/dist-packages (from spotipy) (2.0.7)\n",
            "Requirement already satisfied: async-timeout>=4.0.2 in /usr/local/lib/python3.10/dist-packages (from redis>=3.5.3->spotipy) (4.0.3)\n",
            "Requirement already satisfied: charset-normalizer<4,>=2 in /usr/local/lib/python3.10/dist-packages (from requests>=2.25.0->spotipy) (3.3.2)\n",
            "Requirement already satisfied: idna<4,>=2.5 in /usr/local/lib/python3.10/dist-packages (from requests>=2.25.0->spotipy) (3.6)\n",
            "Requirement already satisfied: certifi>=2017.4.17 in /usr/local/lib/python3.10/dist-packages (from requests>=2.25.0->spotipy) (2023.11.17)\n"
          ]
        }
      ]
    },
    {
      "cell_type": "code",
      "execution_count": null,
      "metadata": {
        "colab": {
          "base_uri": "https://localhost:8080/",
          "height": 540
        },
        "id": "-26hZM9ro1-k",
        "outputId": "b2005cd9-9ad8-4381-931c-368a1efff071"
      },
      "outputs": [
        {
          "output_type": "stream",
          "name": "stderr",
          "text": [
            "ERROR:spotipy.client:HTTP Error for GET to https://api.spotify.com/v1/playlists/Mzg4Niw5YzQwMzM1MzY5ZmEwYjQ1NTEzNjQzY2YxMTg5NzcxNDdhMWQ5NWVl/tracks with Params: {'limit': 100, 'offset': 0, 'fields': None, 'market': None, 'additional_types': 'track'} returned 404 due to Invalid playlist Id\n"
          ]
        },
        {
          "output_type": "error",
          "ename": "SpotifyException",
          "evalue": "http status: 404, code:-1 - https://api.spotify.com/v1/playlists/Mzg4Niw5YzQwMzM1MzY5ZmEwYjQ1NTEzNjQzY2YxMTg5NzcxNDdhMWQ5NWVl/tracks?limit=100&offset=0&additional_types=track:\n Invalid playlist Id, reason: None",
          "traceback": [
            "\u001b[0;31m---------------------------------------------------------------------------\u001b[0m",
            "\u001b[0;31mHTTPError\u001b[0m                                 Traceback (most recent call last)",
            "\u001b[0;32m/usr/local/lib/python3.10/dist-packages/spotipy/client.py\u001b[0m in \u001b[0;36m_internal_call\u001b[0;34m(self, method, url, payload, params)\u001b[0m\n\u001b[1;32m    270\u001b[0m \u001b[0;34m\u001b[0m\u001b[0m\n\u001b[0;32m--> 271\u001b[0;31m             \u001b[0mresponse\u001b[0m\u001b[0;34m.\u001b[0m\u001b[0mraise_for_status\u001b[0m\u001b[0;34m(\u001b[0m\u001b[0;34m)\u001b[0m\u001b[0;34m\u001b[0m\u001b[0;34m\u001b[0m\u001b[0m\n\u001b[0m\u001b[1;32m    272\u001b[0m             \u001b[0mresults\u001b[0m \u001b[0;34m=\u001b[0m \u001b[0mresponse\u001b[0m\u001b[0;34m.\u001b[0m\u001b[0mjson\u001b[0m\u001b[0;34m(\u001b[0m\u001b[0;34m)\u001b[0m\u001b[0;34m\u001b[0m\u001b[0;34m\u001b[0m\u001b[0m\n",
            "\u001b[0;32m/usr/local/lib/python3.10/dist-packages/requests/models.py\u001b[0m in \u001b[0;36mraise_for_status\u001b[0;34m(self)\u001b[0m\n\u001b[1;32m   1020\u001b[0m         \u001b[0;32mif\u001b[0m \u001b[0mhttp_error_msg\u001b[0m\u001b[0;34m:\u001b[0m\u001b[0;34m\u001b[0m\u001b[0;34m\u001b[0m\u001b[0m\n\u001b[0;32m-> 1021\u001b[0;31m             \u001b[0;32mraise\u001b[0m \u001b[0mHTTPError\u001b[0m\u001b[0;34m(\u001b[0m\u001b[0mhttp_error_msg\u001b[0m\u001b[0;34m,\u001b[0m \u001b[0mresponse\u001b[0m\u001b[0;34m=\u001b[0m\u001b[0mself\u001b[0m\u001b[0;34m)\u001b[0m\u001b[0;34m\u001b[0m\u001b[0;34m\u001b[0m\u001b[0m\n\u001b[0m\u001b[1;32m   1022\u001b[0m \u001b[0;34m\u001b[0m\u001b[0m\n",
            "\u001b[0;31mHTTPError\u001b[0m: 404 Client Error: Not Found for url: https://api.spotify.com/v1/playlists/Mzg4Niw5YzQwMzM1MzY5ZmEwYjQ1NTEzNjQzY2YxMTg5NzcxNDdhMWQ5NWVl/tracks?limit=100&offset=0&additional_types=track",
            "\nDuring handling of the above exception, another exception occurred:\n",
            "\u001b[0;31mSpotifyException\u001b[0m                          Traceback (most recent call last)",
            "\u001b[0;32m<ipython-input-68-06694357debd>\u001b[0m in \u001b[0;36m<cell line: 32>\u001b[0;34m()\u001b[0m\n\u001b[1;32m     30\u001b[0m   \u001b[0;31m#playlist_id = None\u001b[0m\u001b[0;34m\u001b[0m\u001b[0;34m\u001b[0m\u001b[0m\n\u001b[1;32m     31\u001b[0m \u001b[0;34m\u001b[0m\u001b[0m\n\u001b[0;32m---> 32\u001b[0;31m \u001b[0mplaylist_tracks\u001b[0m \u001b[0;34m=\u001b[0m \u001b[0msp\u001b[0m\u001b[0;34m.\u001b[0m\u001b[0mplaylist_tracks\u001b[0m\u001b[0;34m(\u001b[0m\u001b[0msnapshot_id\u001b[0m\u001b[0;34m)\u001b[0m\u001b[0;34m\u001b[0m\u001b[0;34m\u001b[0m\u001b[0m\n\u001b[0m\u001b[1;32m     33\u001b[0m \u001b[0;34m\u001b[0m\u001b[0m\n\u001b[1;32m     34\u001b[0m \u001b[0mtoken_url\u001b[0m \u001b[0;34m=\u001b[0m \u001b[0;34m\"https://accounts.spotify.com/api/token\"\u001b[0m\u001b[0;34m\u001b[0m\u001b[0;34m\u001b[0m\u001b[0m\n",
            "\u001b[0;32m/usr/local/lib/python3.10/dist-packages/spotipy/client.py\u001b[0m in \u001b[0;36mplaylist_tracks\u001b[0;34m(self, playlist_id, fields, limit, offset, market, additional_types)\u001b[0m\n\u001b[1;32m    681\u001b[0m             \u001b[0mDeprecationWarning\u001b[0m\u001b[0;34m,\u001b[0m\u001b[0;34m\u001b[0m\u001b[0;34m\u001b[0m\u001b[0m\n\u001b[1;32m    682\u001b[0m         )\n\u001b[0;32m--> 683\u001b[0;31m         return self.playlist_items(playlist_id, fields, limit, offset,\n\u001b[0m\u001b[1;32m    684\u001b[0m                                    market, additional_types)\n\u001b[1;32m    685\u001b[0m \u001b[0;34m\u001b[0m\u001b[0m\n",
            "\u001b[0;32m/usr/local/lib/python3.10/dist-packages/spotipy/client.py\u001b[0m in \u001b[0;36mplaylist_items\u001b[0;34m(self, playlist_id, fields, limit, offset, market, additional_types)\u001b[0m\n\u001b[1;32m    705\u001b[0m         \"\"\"\n\u001b[1;32m    706\u001b[0m         \u001b[0mplid\u001b[0m \u001b[0;34m=\u001b[0m \u001b[0mself\u001b[0m\u001b[0;34m.\u001b[0m\u001b[0m_get_id\u001b[0m\u001b[0;34m(\u001b[0m\u001b[0;34m\"playlist\"\u001b[0m\u001b[0;34m,\u001b[0m \u001b[0mplaylist_id\u001b[0m\u001b[0;34m)\u001b[0m\u001b[0;34m\u001b[0m\u001b[0;34m\u001b[0m\u001b[0m\n\u001b[0;32m--> 707\u001b[0;31m         return self._get(\n\u001b[0m\u001b[1;32m    708\u001b[0m             \u001b[0;34m\"playlists/%s/tracks\"\u001b[0m \u001b[0;34m%\u001b[0m \u001b[0;34m(\u001b[0m\u001b[0mplid\u001b[0m\u001b[0;34m)\u001b[0m\u001b[0;34m,\u001b[0m\u001b[0;34m\u001b[0m\u001b[0;34m\u001b[0m\u001b[0m\n\u001b[1;32m    709\u001b[0m             \u001b[0mlimit\u001b[0m\u001b[0;34m=\u001b[0m\u001b[0mlimit\u001b[0m\u001b[0;34m,\u001b[0m\u001b[0;34m\u001b[0m\u001b[0;34m\u001b[0m\u001b[0m\n",
            "\u001b[0;32m/usr/local/lib/python3.10/dist-packages/spotipy/client.py\u001b[0m in \u001b[0;36m_get\u001b[0;34m(self, url, args, payload, **kwargs)\u001b[0m\n\u001b[1;32m    321\u001b[0m             \u001b[0mkwargs\u001b[0m\u001b[0;34m.\u001b[0m\u001b[0mupdate\u001b[0m\u001b[0;34m(\u001b[0m\u001b[0margs\u001b[0m\u001b[0;34m)\u001b[0m\u001b[0;34m\u001b[0m\u001b[0;34m\u001b[0m\u001b[0m\n\u001b[1;32m    322\u001b[0m \u001b[0;34m\u001b[0m\u001b[0m\n\u001b[0;32m--> 323\u001b[0;31m         \u001b[0;32mreturn\u001b[0m \u001b[0mself\u001b[0m\u001b[0;34m.\u001b[0m\u001b[0m_internal_call\u001b[0m\u001b[0;34m(\u001b[0m\u001b[0;34m\"GET\"\u001b[0m\u001b[0;34m,\u001b[0m \u001b[0murl\u001b[0m\u001b[0;34m,\u001b[0m \u001b[0mpayload\u001b[0m\u001b[0;34m,\u001b[0m \u001b[0mkwargs\u001b[0m\u001b[0;34m)\u001b[0m\u001b[0;34m\u001b[0m\u001b[0;34m\u001b[0m\u001b[0m\n\u001b[0m\u001b[1;32m    324\u001b[0m \u001b[0;34m\u001b[0m\u001b[0m\n\u001b[1;32m    325\u001b[0m     \u001b[0;32mdef\u001b[0m \u001b[0m_post\u001b[0m\u001b[0;34m(\u001b[0m\u001b[0mself\u001b[0m\u001b[0;34m,\u001b[0m \u001b[0murl\u001b[0m\u001b[0;34m,\u001b[0m \u001b[0margs\u001b[0m\u001b[0;34m=\u001b[0m\u001b[0;32mNone\u001b[0m\u001b[0;34m,\u001b[0m \u001b[0mpayload\u001b[0m\u001b[0;34m=\u001b[0m\u001b[0;32mNone\u001b[0m\u001b[0;34m,\u001b[0m \u001b[0;34m**\u001b[0m\u001b[0mkwargs\u001b[0m\u001b[0;34m)\u001b[0m\u001b[0;34m:\u001b[0m\u001b[0;34m\u001b[0m\u001b[0;34m\u001b[0m\u001b[0m\n",
            "\u001b[0;32m/usr/local/lib/python3.10/dist-packages/spotipy/client.py\u001b[0m in \u001b[0;36m_internal_call\u001b[0;34m(self, method, url, payload, params)\u001b[0m\n\u001b[1;32m    291\u001b[0m             )\n\u001b[1;32m    292\u001b[0m \u001b[0;34m\u001b[0m\u001b[0m\n\u001b[0;32m--> 293\u001b[0;31m             raise SpotifyException(\n\u001b[0m\u001b[1;32m    294\u001b[0m                 \u001b[0mresponse\u001b[0m\u001b[0;34m.\u001b[0m\u001b[0mstatus_code\u001b[0m\u001b[0;34m,\u001b[0m\u001b[0;34m\u001b[0m\u001b[0;34m\u001b[0m\u001b[0m\n\u001b[1;32m    295\u001b[0m                 \u001b[0;34m-\u001b[0m\u001b[0;36m1\u001b[0m\u001b[0;34m,\u001b[0m\u001b[0;34m\u001b[0m\u001b[0;34m\u001b[0m\u001b[0m\n",
            "\u001b[0;31mSpotifyException\u001b[0m: http status: 404, code:-1 - https://api.spotify.com/v1/playlists/Mzg4Niw5YzQwMzM1MzY5ZmEwYjQ1NTEzNjQzY2YxMTg5NzcxNDdhMWQ5NWVl/tracks?limit=100&offset=0&additional_types=track:\n Invalid playlist Id, reason: None"
          ]
        }
      ],
      "source": [
        "#First section of code pulling data follows:\n",
        "\n",
        "import pandas as pd\n",
        "import numpy as np\n",
        "import matplotlib.pyplot as plt\n",
        "import requests\n",
        "import seaborn as sns\n",
        "from sklearn.linear_model import LinearRegression\n",
        "from sklearn.metrics import mean_squared_error, r2_score\n",
        "import spotipy\n",
        "from spotipy.oauth2 import SpotifyClientCredentials\n",
        "import re\n",
        "import IPython\n",
        "from IPython.display import display\n",
        "\n",
        "client_id = \"bbb8b22380ff4e6183c58ce0d0e9975b\"\n",
        "client_secret = \"e1fac3548c6d4c62b7fc91b9029c97c9\"\n",
        "\n",
        "client_credentials_manager = SpotifyClientCredentials(client_id, client_secret)\n",
        "sp = spotipy.Spotify(client_credentials_manager=client_credentials_manager)\n",
        "\n",
        "playlist_url = \"https://open.spotify.com/playlist/2DCBk0AdKhUxb2ANXckhMO?si=d0a9dd06ac164826\"\n",
        "\n",
        "playlist_id_match = re.search(r'/playlist/([a-zA-Z0-9]{22})', playlist_url)\n",
        "if playlist_id_match:\n",
        "  playlist_id = playlist_id_match.group(1)\n",
        "else:\n",
        "  print(\"Error: Unable to extract playlist ID from the URL.\")\n",
        "  playlist_id = None\n",
        "\n",
        "playlist_tracks = sp.playlist_tracks(playlist_id)\n",
        "\n",
        "token_url = \"https://accounts.spotify.com/api/token\"\n",
        "data_url = \"https://api.spotify.com/v1/tracks\"\n",
        "headers = {\"Authorization\": \"Bearer your_access_token\"}\n",
        "\n",
        "payload = {\"grant_type\": \"client_credentials\", \"client_id\": client_id, \"client_secret\": client_secret}\n",
        "response = requests.post(token_url, data=payload)\n",
        "response_json = response.json()\n",
        "print(response.json)\n",
        "\n",
        "access_token = response_json.get(\"access_token\", None)\n",
        "if access_token is None:\n",
        "  print(\"Error retrieving access token\")\n",
        "else:\n",
        "  headers[\"Authorization\"] = \"Bearer \" + access_token\n",
        "\n",
        "df_data = []\n",
        "for track in playlist_tracks['items']:\n",
        "  track_info = {\n",
        "      \"Title\": track[\"track\"][\"name\"],\n",
        "      \"Duration (ms)\": track[\"track\"][\"duration_ms\"],\n",
        "      \"Artists\": \",\".join([artist[\"name\"] for artist in track[\"track\"][\"artists\"]]),\n",
        "      \"Album\": track[\"track\"][\"album\"][\"name\"],\n",
        "      \"Popularity Score\": track[\"track\"][\"popularity\"]\n",
        "  }\n",
        "  audio_features = sp.audio_features(track[\"track\"][\"id\"])[0]\n",
        "  track_info.update(audio_features)\n",
        "  df_data.append(track_info)\n",
        "\n",
        "df = pd.DataFrame(df_data)\n",
        "\n",
        "print(df)\n",
        "#Retrieve data statistics\n",
        "df.head()\n",
        "df.describe()\n",
        "df.info()\n",
        "\n",
        "\n",
        "df1 = df[['Title', 'Artists', 'Album']]\n",
        "df2 = df[['danceability', 'energy', 'instrumentalness', 'key', 'loudness', 'mode', 'Popularity Score', 'Duration (ms)']]\n",
        "\n",
        "#Merge Data for less clunky analysis\n",
        "df = pd.merge(df1, df2, left_index=True, right_index=True)\n",
        "\n",
        "display(df1, df2)\n",
        "\n",
        "#Create plots to display Audio features\n",
        "df[['danceability', 'energy', 'instrumentalness', 'key', 'loudness', 'mode', 'Popularity Score']].plot()\n",
        "\n",
        "plt.title('Audio Features')\n",
        "plt.xlabel('Track')\n",
        "plt.ylabel('Value')\n",
        "\n",
        "#Display matplot\n",
        "plt.show()\n",
        "\n",
        "sns.pairplot(df, x_vars=['danceability', 'energy', 'instrumentalness', 'key', 'loudness', 'mode'], y_vars=['Popularity Score'+'Title'], height=10, aspect=1)"
      ]
    },
    {
      "source": [
        "from matplotlib import pyplot as plt\n",
        "df1['Popularity Score'].plot(kind='hist', bins=20, title='Popularity Score')\n",
        "plt.gca().spines[['top', 'right',]].set_visible(False)"
      ],
      "cell_type": "code",
      "metadata": {
        "colab": {
          "base_uri": "https://localhost:8080/",
          "height": 452
        },
        "id": "vT7jFX-PJ9a_",
        "outputId": "653f111e-3180-4aef-d307-5036a098e4a1"
      },
      "execution_count": null,
      "outputs": [
        {
          "output_type": "display_data",
          "data": {
            "text/plain": [
              "<Figure size 640x480 with 1 Axes>"
            ],
            "image/png": "[encoded data removed]"
          },
          "metadata": {}
        }
      ]
    }
  ]
}